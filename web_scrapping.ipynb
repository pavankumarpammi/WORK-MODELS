{
  "nbformat": 4,
  "nbformat_minor": 0,
  "metadata": {
    "colab": {
      "provenance": [],
      "authorship_tag": "ABX9TyMtAPOh6PB7hPS+8X3Dp43x",
      "include_colab_link": true
    },
    "kernelspec": {
      "name": "python3",
      "display_name": "Python 3"
    },
    "language_info": {
      "name": "python"
    }
  },
  "cells": [
    {
      "cell_type": "markdown",
      "metadata": {
        "id": "view-in-github",
        "colab_type": "text"
      },
      "source": [
        "<a href=\"https://colab.research.google.com/github/pavankumarpammi/WORK-MODELS/blob/main/web_scrapping.ipynb\" target=\"_parent\"><img src=\"https://colab.research.google.com/assets/colab-badge.svg\" alt=\"Open In Colab\"/></a>"
      ]
    },
    {
      "cell_type": "code",
      "execution_count": null,
      "metadata": {
        "id": "P4mQf_F5YkjA"
      },
      "outputs": [],
      "source": [
        "# web scrapping - extracting data from the web"
      ]
    },
    {
      "cell_type": "code",
      "source": [
        "import requests\n",
        "from  bs4 import BeautifulSoup  as bs"
      ],
      "metadata": {
        "id": "2RdoXhhCa8Yr"
      },
      "execution_count": null,
      "outputs": []
    },
    {
      "cell_type": "code",
      "source": [
        "url='https://www.amazon.in/Apple-iPhone-Pro-Max-256GB/product-reviews/B09G91FCBT/ref=cm_cr_getr_d_paging_btm_next_3?ie=UTF8&reviewerType=all_reviews&pageNumber=3'\n",
        "page = requests.get(url) #extract data from web\n",
        "page # response [200] is okay and response [503] is an error\n",
        "# if response is [500] then re run the code until getting a [200] up to 10 times"
      ],
      "metadata": {
        "colab": {
          "base_uri": "https://localhost:8080/"
        },
        "id": "eEUL011Obe6U",
        "outputId": "a5960999-8a17-4b1f-e31b-93ff93cfe901"
      },
      "execution_count": null,
      "outputs": [
        {
          "output_type": "execute_result",
          "data": {
            "text/plain": [
              "<Response [200]>"
            ]
          },
          "metadata": {},
          "execution_count": 2
        }
      ]
    },
    {
      "cell_type": "code",
      "source": [
        "page.content \n",
        "# it is a source html code to a reable data"
      ],
      "metadata": {
        "id": "lDnwqRBsdMBH"
      },
      "execution_count": null,
      "outputs": []
    },
    {
      "cell_type": "code",
      "source": [
        "soup = bs(page.content,'html.parser')\n",
        "# it make the source code for better understanding"
      ],
      "metadata": {
        "id": "RghMPTKTeETu"
      },
      "execution_count": null,
      "outputs": []
    },
    {
      "cell_type": "code",
      "source": [
        "soup"
      ],
      "metadata": {
        "id": "Du0aSyuhesb9"
      },
      "execution_count": null,
      "outputs": []
    },
    {
      "cell_type": "code",
      "source": [
        "names = soup.find_all('span',class_ = 'a-profile-name')\n",
        "names"
      ],
      "metadata": {
        "colab": {
          "base_uri": "https://localhost:8080/"
        },
        "id": "dQjftHd_fCNV",
        "outputId": "e06c6e14-c4f3-4d42-b567-96357621d2b1"
      },
      "execution_count": null,
      "outputs": [
        {
          "output_type": "execute_result",
          "data": {
            "text/plain": [
              "[<span class=\"a-profile-name\">Amazon Customer</span>,\n",
              " <span class=\"a-profile-name\">raghav</span>,\n",
              " <span class=\"a-profile-name\">Vicky</span>,\n",
              " <span class=\"a-profile-name\">karthik</span>,\n",
              " <span class=\"a-profile-name\">Resham Rana</span>,\n",
              " <span class=\"a-profile-name\">Rakshit Ranjan Singh</span>,\n",
              " <span class=\"a-profile-name\">Gagan anand</span>,\n",
              " <span class=\"a-profile-name\">Sandip Adhav</span>,\n",
              " <span class=\"a-profile-name\">Sumit Khinchi</span>,\n",
              " <span class=\"a-profile-name\">Arindam Dey</span>,\n",
              " <span class=\"a-profile-name\">HPCL A/C Gourav Singh Rathore</span>,\n",
              " <span class=\"a-profile-name\">ranjeet</span>]"
            ]
          },
          "metadata": {},
          "execution_count": 6
        }
      ]
    },
    {
      "cell_type": "code",
      "source": [
        "names = soup.find_all('span',class_ = 'a-profile-name')[1:]\n",
        "names"
      ],
      "metadata": {
        "colab": {
          "base_uri": "https://localhost:8080/"
        },
        "id": "MHlJ_cFMl20H",
        "outputId": "627a3a19-9a89-487d-a790-634beb2d7629"
      },
      "execution_count": null,
      "outputs": [
        {
          "output_type": "execute_result",
          "data": {
            "text/plain": [
              "[<span class=\"a-profile-name\">raghav</span>,\n",
              " <span class=\"a-profile-name\">Vicky</span>,\n",
              " <span class=\"a-profile-name\">karthik</span>,\n",
              " <span class=\"a-profile-name\">Resham Rana</span>,\n",
              " <span class=\"a-profile-name\">Rakshit Ranjan Singh</span>,\n",
              " <span class=\"a-profile-name\">Gagan anand</span>,\n",
              " <span class=\"a-profile-name\">Sandip Adhav</span>,\n",
              " <span class=\"a-profile-name\">Sumit Khinchi</span>,\n",
              " <span class=\"a-profile-name\">Arindam Dey</span>,\n",
              " <span class=\"a-profile-name\">HPCL A/C Gourav Singh Rathore</span>,\n",
              " <span class=\"a-profile-name\">ranjeet</span>]"
            ]
          },
          "metadata": {},
          "execution_count": 21
        }
      ]
    },
    {
      "cell_type": "code",
      "source": [
        "type(names)"
      ],
      "metadata": {
        "colab": {
          "base_uri": "https://localhost:8080/"
        },
        "id": "Bm8kX7iHk66A",
        "outputId": "67f582d6-9302-4391-85cc-e80fe6b12347"
      },
      "execution_count": null,
      "outputs": [
        {
          "output_type": "execute_result",
          "data": {
            "text/plain": [
              "list"
            ]
          },
          "metadata": {},
          "execution_count": 8
        }
      ]
    },
    {
      "cell_type": "code",
      "source": [
        "len(names)"
      ],
      "metadata": {
        "colab": {
          "base_uri": "https://localhost:8080/"
        },
        "id": "dX_t5HvZmK-M",
        "outputId": "4fa09c3b-2ac8-49bc-eb11-274a0c44b16f"
      },
      "execution_count": null,
      "outputs": [
        {
          "output_type": "execute_result",
          "data": {
            "text/plain": [
              "11"
            ]
          },
          "metadata": {},
          "execution_count": 22
        }
      ]
    },
    {
      "cell_type": "code",
      "source": [
        "# now create a data frame\n",
        "import pandas as pd\n",
        "df=pd.DataFrame(names,columns={'customer name'})\n",
        "df=df[0:10]\n",
        "df\n",
        "# in case of duplicates we drop down the data"
      ],
      "metadata": {
        "colab": {
          "base_uri": "https://localhost:8080/",
          "height": 363
        },
        "id": "KBBaQLWemfpP",
        "outputId": "beb4196c-cad4-449f-f95d-7e34f56757fd"
      },
      "execution_count": null,
      "outputs": [
        {
          "output_type": "execute_result",
          "data": {
            "text/plain": [
              "                   customer name\n",
              "0                         raghav\n",
              "1                          Vicky\n",
              "2                        karthik\n",
              "3                    Resham Rana\n",
              "4           Rakshit Ranjan Singh\n",
              "5                    Gagan anand\n",
              "6                   Sandip Adhav\n",
              "7                  Sumit Khinchi\n",
              "8                    Arindam Dey\n",
              "9  HPCL A/C Gourav Singh Rathore"
            ],
            "text/html": [
              "\n",
              "  <div id=\"df-44e6478b-6fc6-49af-b952-a4e030752355\">\n",
              "    <div class=\"colab-df-container\">\n",
              "      <div>\n",
              "<style scoped>\n",
              "    .dataframe tbody tr th:only-of-type {\n",
              "        vertical-align: middle;\n",
              "    }\n",
              "\n",
              "    .dataframe tbody tr th {\n",
              "        vertical-align: top;\n",
              "    }\n",
              "\n",
              "    .dataframe thead th {\n",
              "        text-align: right;\n",
              "    }\n",
              "</style>\n",
              "<table border=\"1\" class=\"dataframe\">\n",
              "  <thead>\n",
              "    <tr style=\"text-align: right;\">\n",
              "      <th></th>\n",
              "      <th>customer name</th>\n",
              "    </tr>\n",
              "  </thead>\n",
              "  <tbody>\n",
              "    <tr>\n",
              "      <th>0</th>\n",
              "      <td>raghav</td>\n",
              "    </tr>\n",
              "    <tr>\n",
              "      <th>1</th>\n",
              "      <td>Vicky</td>\n",
              "    </tr>\n",
              "    <tr>\n",
              "      <th>2</th>\n",
              "      <td>karthik</td>\n",
              "    </tr>\n",
              "    <tr>\n",
              "      <th>3</th>\n",
              "      <td>Resham Rana</td>\n",
              "    </tr>\n",
              "    <tr>\n",
              "      <th>4</th>\n",
              "      <td>Rakshit Ranjan Singh</td>\n",
              "    </tr>\n",
              "    <tr>\n",
              "      <th>5</th>\n",
              "      <td>Gagan anand</td>\n",
              "    </tr>\n",
              "    <tr>\n",
              "      <th>6</th>\n",
              "      <td>Sandip Adhav</td>\n",
              "    </tr>\n",
              "    <tr>\n",
              "      <th>7</th>\n",
              "      <td>Sumit Khinchi</td>\n",
              "    </tr>\n",
              "    <tr>\n",
              "      <th>8</th>\n",
              "      <td>Arindam Dey</td>\n",
              "    </tr>\n",
              "    <tr>\n",
              "      <th>9</th>\n",
              "      <td>HPCL A/C Gourav Singh Rathore</td>\n",
              "    </tr>\n",
              "  </tbody>\n",
              "</table>\n",
              "</div>\n",
              "      <button class=\"colab-df-convert\" onclick=\"convertToInteractive('df-44e6478b-6fc6-49af-b952-a4e030752355')\"\n",
              "              title=\"Convert this dataframe to an interactive table.\"\n",
              "              style=\"display:none;\">\n",
              "        \n",
              "  <svg xmlns=\"http://www.w3.org/2000/svg\" height=\"24px\"viewBox=\"0 0 24 24\"\n",
              "       width=\"24px\">\n",
              "    <path d=\"M0 0h24v24H0V0z\" fill=\"none\"/>\n",
              "    <path d=\"M18.56 5.44l.94 2.06.94-2.06 2.06-.94-2.06-.94-.94-2.06-.94 2.06-2.06.94zm-11 1L8.5 8.5l.94-2.06 2.06-.94-2.06-.94L8.5 2.5l-.94 2.06-2.06.94zm10 10l.94 2.06.94-2.06 2.06-.94-2.06-.94-.94-2.06-.94 2.06-2.06.94z\"/><path d=\"M17.41 7.96l-1.37-1.37c-.4-.4-.92-.59-1.43-.59-.52 0-1.04.2-1.43.59L10.3 9.45l-7.72 7.72c-.78.78-.78 2.05 0 2.83L4 21.41c.39.39.9.59 1.41.59.51 0 1.02-.2 1.41-.59l7.78-7.78 2.81-2.81c.8-.78.8-2.07 0-2.86zM5.41 20L4 18.59l7.72-7.72 1.47 1.35L5.41 20z\"/>\n",
              "  </svg>\n",
              "      </button>\n",
              "      \n",
              "  <style>\n",
              "    .colab-df-container {\n",
              "      display:flex;\n",
              "      flex-wrap:wrap;\n",
              "      gap: 12px;\n",
              "    }\n",
              "\n",
              "    .colab-df-convert {\n",
              "      background-color: #E8F0FE;\n",
              "      border: none;\n",
              "      border-radius: 50%;\n",
              "      cursor: pointer;\n",
              "      display: none;\n",
              "      fill: #1967D2;\n",
              "      height: 32px;\n",
              "      padding: 0 0 0 0;\n",
              "      width: 32px;\n",
              "    }\n",
              "\n",
              "    .colab-df-convert:hover {\n",
              "      background-color: #E2EBFA;\n",
              "      box-shadow: 0px 1px 2px rgba(60, 64, 67, 0.3), 0px 1px 3px 1px rgba(60, 64, 67, 0.15);\n",
              "      fill: #174EA6;\n",
              "    }\n",
              "\n",
              "    [theme=dark] .colab-df-convert {\n",
              "      background-color: #3B4455;\n",
              "      fill: #D2E3FC;\n",
              "    }\n",
              "\n",
              "    [theme=dark] .colab-df-convert:hover {\n",
              "      background-color: #434B5C;\n",
              "      box-shadow: 0px 1px 3px 1px rgba(0, 0, 0, 0.15);\n",
              "      filter: drop-shadow(0px 1px 2px rgba(0, 0, 0, 0.3));\n",
              "      fill: #FFFFFF;\n",
              "    }\n",
              "  </style>\n",
              "\n",
              "      <script>\n",
              "        const buttonEl =\n",
              "          document.querySelector('#df-44e6478b-6fc6-49af-b952-a4e030752355 button.colab-df-convert');\n",
              "        buttonEl.style.display =\n",
              "          google.colab.kernel.accessAllowed ? 'block' : 'none';\n",
              "\n",
              "        async function convertToInteractive(key) {\n",
              "          const element = document.querySelector('#df-44e6478b-6fc6-49af-b952-a4e030752355');\n",
              "          const dataTable =\n",
              "            await google.colab.kernel.invokeFunction('convertToInteractive',\n",
              "                                                     [key], {});\n",
              "          if (!dataTable) return;\n",
              "\n",
              "          const docLinkHtml = 'Like what you see? Visit the ' +\n",
              "            '<a target=\"_blank\" href=https://colab.research.google.com/notebooks/data_table.ipynb>data table notebook</a>'\n",
              "            + ' to learn more about interactive tables.';\n",
              "          element.innerHTML = '';\n",
              "          dataTable['output_type'] = 'display_data';\n",
              "          await google.colab.output.renderOutput(dataTable, element);\n",
              "          const docLink = document.createElement('div');\n",
              "          docLink.innerHTML = docLinkHtml;\n",
              "          element.appendChild(docLink);\n",
              "        }\n",
              "      </script>\n",
              "    </div>\n",
              "  </div>\n",
              "  "
            ]
          },
          "metadata": {},
          "execution_count": 48
        }
      ]
    },
    {
      "cell_type": "code",
      "source": [
        "# now the next things is review title\n",
        "r_title = soup.find_all('a',class_= 'review-title')\n",
        "r_title"
      ],
      "metadata": {
        "id": "qOKC-lWK5edc"
      },
      "execution_count": null,
      "outputs": []
    },
    {
      "cell_type": "code",
      "source": [
        "len(r_title)"
      ],
      "metadata": {
        "colab": {
          "base_uri": "https://localhost:8080/"
        },
        "id": "C9zuhLzy6qeo",
        "outputId": "011301bf-2b10-44ae-eadd-514fe1d88f5b"
      },
      "execution_count": null,
      "outputs": [
        {
          "output_type": "execute_result",
          "data": {
            "text/plain": [
              "10"
            ]
          },
          "metadata": {},
          "execution_count": 25
        }
      ]
    },
    {
      "cell_type": "code",
      "source": [
        "# Data cleaning\n",
        "review_title=[]\n",
        "for i in range(0,len(r_title)):\n",
        "  review_title.append(r_title[i].get_text()[1:-1])\n",
        "review_title"
      ],
      "metadata": {
        "colab": {
          "base_uri": "https://localhost:8080/"
        },
        "id": "b-CMAT3J6tik",
        "outputId": "eda82113-471d-4388-9397-ae29d26b385b"
      },
      "execution_count": null,
      "outputs": [
        {
          "output_type": "execute_result",
          "data": {
            "text/plain": [
              "['Super se v upper',\n",
              " 'Packing',\n",
              " 'I m very happy with the item I have received there is no any complaints',\n",
              " 'Being an iPhone it is costly but worthy',\n",
              " 'Very easy to ise',\n",
              " 'Best phone in the market',\n",
              " 'Perfect device, amazing speed.',\n",
              " 'Awesome',\n",
              " 'Classy phone',\n",
              " 'Impressed with battery life']"
            ]
          },
          "metadata": {},
          "execution_count": 15
        }
      ]
    },
    {
      "cell_type": "code",
      "source": [
        "r_date = soup.find_all('span',class_ ='review-date')\n",
        "r_date"
      ],
      "metadata": {
        "colab": {
          "base_uri": "https://localhost:8080/"
        },
        "id": "kPMZ7-g975k1",
        "outputId": "625d9b07-3971-4536-c378-d462a445fd12"
      },
      "execution_count": null,
      "outputs": [
        {
          "output_type": "execute_result",
          "data": {
            "text/plain": [
              "[<span class=\"a-size-base a-color-secondary review-date\">Reviewed in India 🇮🇳 on 17 December 2021</span>,\n",
              " <span class=\"a-size-base a-color-secondary review-date\">Reviewed in India 🇮🇳 on 30 September 2021</span>,\n",
              " <span class=\"a-size-base a-color-secondary review-date\" data-hook=\"review-date\">Reviewed in India 🇮🇳 on 12 August 2022</span>,\n",
              " <span class=\"a-size-base a-color-secondary review-date\" data-hook=\"review-date\">Reviewed in India 🇮🇳 on 10 August 2022</span>,\n",
              " <span class=\"a-size-base a-color-secondary review-date\" data-hook=\"review-date\">Reviewed in India 🇮🇳 on 10 August 2022</span>,\n",
              " <span class=\"a-size-base a-color-secondary review-date\" data-hook=\"review-date\">Reviewed in India 🇮🇳 on 29 July 2022</span>,\n",
              " <span class=\"a-size-base a-color-secondary review-date\" data-hook=\"review-date\">Reviewed in India 🇮🇳 on 14 August 2022</span>,\n",
              " <span class=\"a-size-base a-color-secondary review-date\" data-hook=\"review-date\">Reviewed in India 🇮🇳 on 10 August 2022</span>,\n",
              " <span class=\"a-size-base a-color-secondary review-date\" data-hook=\"review-date\">Reviewed in India 🇮🇳 on 8 August 2022</span>,\n",
              " <span class=\"a-size-base a-color-secondary review-date\" data-hook=\"review-date\">Reviewed in India 🇮🇳 on 11 August 2022</span>,\n",
              " <span class=\"a-size-base a-color-secondary review-date\" data-hook=\"review-date\">Reviewed in India 🇮🇳 on 30 July 2022</span>,\n",
              " <span class=\"a-size-base a-color-secondary review-date\" data-hook=\"review-date\">Reviewed in India 🇮🇳 on 5 August 2022</span>]"
            ]
          },
          "metadata": {},
          "execution_count": 18
        }
      ]
    },
    {
      "cell_type": "code",
      "source": [
        "len(r_date)"
      ],
      "metadata": {
        "colab": {
          "base_uri": "https://localhost:8080/"
        },
        "id": "dig8nhWb9f8Y",
        "outputId": "9031ff27-ff01-4610-b5b0-7b47f7eebb36"
      },
      "execution_count": null,
      "outputs": [
        {
          "output_type": "execute_result",
          "data": {
            "text/plain": [
              "12"
            ]
          },
          "metadata": {},
          "execution_count": 19
        }
      ]
    },
    {
      "cell_type": "code",
      "source": [
        "review_date=[]\n",
        "for i in range(0,len(r_date)):\n",
        "  review_date.append(r_date[i].get_text().replace('Reviewed in India 🇮🇳 on ',''))\n",
        "review_date=review_date[0:10]\n",
        "review_date\n",
        "# by removing the text reviewed in india can be done in two ways by slicing and replacing it"
      ],
      "metadata": {
        "colab": {
          "base_uri": "https://localhost:8080/"
        },
        "id": "n9Qoy8pv-Kqw",
        "outputId": "ee39b54b-09d3-431c-c0a0-252b05aa4ba7"
      },
      "execution_count": null,
      "outputs": [
        {
          "output_type": "execute_result",
          "data": {
            "text/plain": [
              "['17 December 2021',\n",
              " '30 September 2021',\n",
              " '12 August 2022',\n",
              " '10 August 2022',\n",
              " '10 August 2022',\n",
              " '29 July 2022',\n",
              " '14 August 2022',\n",
              " '10 August 2022',\n",
              " '8 August 2022',\n",
              " '11 August 2022']"
            ]
          },
          "metadata": {},
          "execution_count": 54
        }
      ]
    },
    {
      "cell_type": "code",
      "source": [
        "# review the rating of product\n",
        "rating = soup.select('i.review-rating')\n",
        "rating"
      ],
      "metadata": {
        "colab": {
          "base_uri": "https://localhost:8080/"
        },
        "id": "S8GVi20zAFxV",
        "outputId": "fc4b46ea-7b30-4de2-8d7d-cc152e11826b"
      },
      "execution_count": null,
      "outputs": [
        {
          "output_type": "execute_result",
          "data": {
            "text/plain": [
              "[<i class=\"a-icon a-icon-star a-star-5 review-rating\" data-hook=\"review-star-rating-view-point\"><span class=\"a-icon-alt\">5.0 out of 5 stars</span></i>,\n",
              " <i class=\"a-icon a-icon-star a-star-1 review-rating\" data-hook=\"review-star-rating-view-point\"><span class=\"a-icon-alt\">1.0 out of 5 stars</span></i>,\n",
              " <i class=\"a-icon a-icon-star a-star-5 review-rating\" data-hook=\"review-star-rating\"><span class=\"a-icon-alt\">5.0 out of 5 stars</span></i>,\n",
              " <i class=\"a-icon a-icon-star a-star-5 review-rating\" data-hook=\"review-star-rating\"><span class=\"a-icon-alt\">5.0 out of 5 stars</span></i>,\n",
              " <i class=\"a-icon a-icon-star a-star-5 review-rating\" data-hook=\"review-star-rating\"><span class=\"a-icon-alt\">5.0 out of 5 stars</span></i>,\n",
              " <i class=\"a-icon a-icon-star a-star-5 review-rating\" data-hook=\"review-star-rating\"><span class=\"a-icon-alt\">5.0 out of 5 stars</span></i>,\n",
              " <i class=\"a-icon a-icon-star a-star-5 review-rating\" data-hook=\"review-star-rating\"><span class=\"a-icon-alt\">5.0 out of 5 stars</span></i>,\n",
              " <i class=\"a-icon a-icon-star a-star-5 review-rating\" data-hook=\"review-star-rating\"><span class=\"a-icon-alt\">5.0 out of 5 stars</span></i>,\n",
              " <i class=\"a-icon a-icon-star a-star-5 review-rating\" data-hook=\"review-star-rating\"><span class=\"a-icon-alt\">5.0 out of 5 stars</span></i>,\n",
              " <i class=\"a-icon a-icon-star a-star-5 review-rating\" data-hook=\"review-star-rating\"><span class=\"a-icon-alt\">5.0 out of 5 stars</span></i>,\n",
              " <i class=\"a-icon a-icon-star a-star-5 review-rating\" data-hook=\"review-star-rating\"><span class=\"a-icon-alt\">5.0 out of 5 stars</span></i>,\n",
              " <i class=\"a-icon a-icon-star a-star-3 review-rating\" data-hook=\"review-star-rating\"><span class=\"a-icon-alt\">3.0 out of 5 stars</span></i>]"
            ]
          },
          "metadata": {},
          "execution_count": 29
        }
      ]
    },
    {
      "cell_type": "code",
      "source": [
        "len(rating)"
      ],
      "metadata": {
        "colab": {
          "base_uri": "https://localhost:8080/"
        },
        "id": "bx3snNszA178",
        "outputId": "c84bbf36-1004-4952-b3a5-97f110848c83"
      },
      "execution_count": null,
      "outputs": [
        {
          "output_type": "execute_result",
          "data": {
            "text/plain": [
              "12"
            ]
          },
          "metadata": {},
          "execution_count": 30
        }
      ]
    },
    {
      "cell_type": "code",
      "source": [
        "#data cleaning\n",
        "review_rating=[]\n",
        "for i in range(0,len(rating)):\n",
        "  review_rating.append(rating[i].get_text())\n",
        "review_rating=review_rating[0:10]\n",
        "review_rating"
      ],
      "metadata": {
        "colab": {
          "base_uri": "https://localhost:8080/"
        },
        "id": "BSdAiu1JA84N",
        "outputId": "256e8786-2b67-428c-b081-adb348807136"
      },
      "execution_count": null,
      "outputs": [
        {
          "output_type": "execute_result",
          "data": {
            "text/plain": [
              "['5.0 out of 5 stars',\n",
              " '1.0 out of 5 stars',\n",
              " '5.0 out of 5 stars',\n",
              " '5.0 out of 5 stars',\n",
              " '5.0 out of 5 stars',\n",
              " '5.0 out of 5 stars',\n",
              " '5.0 out of 5 stars',\n",
              " '5.0 out of 5 stars',\n",
              " '5.0 out of 5 stars',\n",
              " '5.0 out of 5 stars']"
            ]
          },
          "metadata": {},
          "execution_count": 58
        }
      ]
    },
    {
      "cell_type": "code",
      "source": [
        "# next review the content\n",
        "content= soup.select('span.review-text')\n",
        "content"
      ],
      "metadata": {
        "id": "sQ-akRPDBvlX"
      },
      "execution_count": null,
      "outputs": []
    },
    {
      "cell_type": "code",
      "source": [
        "len(content)"
      ],
      "metadata": {
        "colab": {
          "base_uri": "https://localhost:8080/"
        },
        "id": "CdUekfCDCpc2",
        "outputId": "81e804a8-19e0-4f9d-ad5c-f17076b8f544"
      },
      "execution_count": null,
      "outputs": [
        {
          "output_type": "execute_result",
          "data": {
            "text/plain": [
              "10"
            ]
          },
          "metadata": {},
          "execution_count": 34
        }
      ]
    },
    {
      "cell_type": "code",
      "source": [
        "review_content=[]\n",
        "for i in range(0,len(content)):\n",
        "  review_content.append(content[i].get_text().replace('\\n',''))\n",
        "review_content"
      ],
      "metadata": {
        "colab": {
          "base_uri": "https://localhost:8080/"
        },
        "id": "KIoetIOdCtYL",
        "outputId": "60388e36-fd3d-43da-ad6d-35e1e2b7b4bd"
      },
      "execution_count": null,
      "outputs": [
        {
          "output_type": "execute_result",
          "data": {
            "text/plain": [
              "['No words , exceptional',\n",
              " 'Excellent',\n",
              " 'I like the delivery time and what i purchased it’s worth for money I m loving it',\n",
              " '                    The media could not be loaded.                \\xa0Used for a week nowBattery is good 24-28hrsCamera is best but need enough light for a good photoScreensize is good for the pro maxCharging is fast, need to stop some background services and app to save more battery lifeBack tap works on hard case as well just need to tap harderNo finger print but face Id is fine sometimes it doesn’t work due to wrong angle or maybe dim lightWill update soon for more',\n",
              " 'Everything is perfect',\n",
              " \"This is my first ever Iphone.  I'm android user for 10 years and just switched to this Iphone13pro max. no regrets at all!Better than any Android phone in the market, super build quality and the camera.\",\n",
              " '',\n",
              " 'Awesome',\n",
              " '                    The media could not be loaded.                \\xa0I was using one plus series from last 5 years, this time was confused Galaxy S22 ultra and Apple 13 pro max, Had visitors to store and found except for zoom quality of S22 ultra everything was better in 13 Max pro , Though the price is on quite higher side compare to S22 Ultra however it gives you pleasure of having a classy phone in your hands which was missing in S22.',\n",
              " 'IPhone is like beautiful girlfriend with lot of tantrums but just to show off it’s good, very pricy due to govt tax in India. No lot of freedom like androidBut really impressed with its 4 days battery life']"
            ]
          },
          "metadata": {},
          "execution_count": 36
        }
      ]
    },
    {
      "cell_type": "code",
      "source": [
        "review_content[9]"
      ],
      "metadata": {
        "colab": {
          "base_uri": "https://localhost:8080/",
          "height": 52
        },
        "id": "CDjLJX8NDnDK",
        "outputId": "57386979-d17f-429a-d5d8-8bf31431e2f9"
      },
      "execution_count": null,
      "outputs": [
        {
          "output_type": "execute_result",
          "data": {
            "text/plain": [
              "'IPhone is like beautiful girlfriend with lot of tantrums but just to show off it’s good, very pricy due to govt tax in India. No lot of freedom like androidBut really impressed with its 4 days battery life'"
            ],
            "application/vnd.google.colaboratory.intrinsic+json": {
              "type": "string"
            }
          },
          "metadata": {},
          "execution_count": 39
        }
      ]
    },
    {
      "cell_type": "code",
      "source": [
        "df['Review Title']=review_title\n",
        "df['Review date']=review_date\n",
        "df['Review Rating']=review_rating\n",
        "df['Review content']=review_content\n",
        "df"
      ],
      "metadata": {
        "colab": {
          "base_uri": "https://localhost:8080/",
          "height": 363
        },
        "id": "E7QJlDRCDydk",
        "outputId": "7fc706a5-cc2e-4d3c-e139-02f839545b00"
      },
      "execution_count": null,
      "outputs": [
        {
          "output_type": "execute_result",
          "data": {
            "text/plain": [
              "                   customer name  \\\n",
              "0                         raghav   \n",
              "1                          Vicky   \n",
              "2                        karthik   \n",
              "3                    Resham Rana   \n",
              "4           Rakshit Ranjan Singh   \n",
              "5                    Gagan anand   \n",
              "6                   Sandip Adhav   \n",
              "7                  Sumit Khinchi   \n",
              "8                    Arindam Dey   \n",
              "9  HPCL A/C Gourav Singh Rathore   \n",
              "\n",
              "                                        Review Title        Review date  \\\n",
              "0                                   Super se v upper   17 December 2021   \n",
              "1                                            Packing  30 September 2021   \n",
              "2  I m very happy with the item I have received t...     12 August 2022   \n",
              "3            Being an iPhone it is costly but worthy     10 August 2022   \n",
              "4                                   Very easy to ise     10 August 2022   \n",
              "5                           Best phone in the market       29 July 2022   \n",
              "6                     Perfect device, amazing speed.     14 August 2022   \n",
              "7                                            Awesome     10 August 2022   \n",
              "8                                       Classy phone      8 August 2022   \n",
              "9                        Impressed with battery life     11 August 2022   \n",
              "\n",
              "        Review Rating                                     Review content  \n",
              "0  5.0 out of 5 stars                             No words , exceptional  \n",
              "1  1.0 out of 5 stars                                          Excellent  \n",
              "2  5.0 out of 5 stars  I like the delivery time and what i purchased ...  \n",
              "3  5.0 out of 5 stars                      The media could not be loa...  \n",
              "4  5.0 out of 5 stars                              Everything is perfect  \n",
              "5  5.0 out of 5 stars  This is my first ever Iphone.  I'm android use...  \n",
              "6  5.0 out of 5 stars                                                     \n",
              "7  5.0 out of 5 stars                                            Awesome  \n",
              "8  5.0 out of 5 stars                      The media could not be loa...  \n",
              "9  5.0 out of 5 stars  IPhone is like beautiful girlfriend with lot o...  "
            ],
            "text/html": [
              "\n",
              "  <div id=\"df-6a093878-e79a-4dcf-8ffb-90e661172df3\">\n",
              "    <div class=\"colab-df-container\">\n",
              "      <div>\n",
              "<style scoped>\n",
              "    .dataframe tbody tr th:only-of-type {\n",
              "        vertical-align: middle;\n",
              "    }\n",
              "\n",
              "    .dataframe tbody tr th {\n",
              "        vertical-align: top;\n",
              "    }\n",
              "\n",
              "    .dataframe thead th {\n",
              "        text-align: right;\n",
              "    }\n",
              "</style>\n",
              "<table border=\"1\" class=\"dataframe\">\n",
              "  <thead>\n",
              "    <tr style=\"text-align: right;\">\n",
              "      <th></th>\n",
              "      <th>customer name</th>\n",
              "      <th>Review Title</th>\n",
              "      <th>Review date</th>\n",
              "      <th>Review Rating</th>\n",
              "      <th>Review content</th>\n",
              "    </tr>\n",
              "  </thead>\n",
              "  <tbody>\n",
              "    <tr>\n",
              "      <th>0</th>\n",
              "      <td>raghav</td>\n",
              "      <td>Super se v upper</td>\n",
              "      <td>17 December 2021</td>\n",
              "      <td>5.0 out of 5 stars</td>\n",
              "      <td>No words , exceptional</td>\n",
              "    </tr>\n",
              "    <tr>\n",
              "      <th>1</th>\n",
              "      <td>Vicky</td>\n",
              "      <td>Packing</td>\n",
              "      <td>30 September 2021</td>\n",
              "      <td>1.0 out of 5 stars</td>\n",
              "      <td>Excellent</td>\n",
              "    </tr>\n",
              "    <tr>\n",
              "      <th>2</th>\n",
              "      <td>karthik</td>\n",
              "      <td>I m very happy with the item I have received t...</td>\n",
              "      <td>12 August 2022</td>\n",
              "      <td>5.0 out of 5 stars</td>\n",
              "      <td>I like the delivery time and what i purchased ...</td>\n",
              "    </tr>\n",
              "    <tr>\n",
              "      <th>3</th>\n",
              "      <td>Resham Rana</td>\n",
              "      <td>Being an iPhone it is costly but worthy</td>\n",
              "      <td>10 August 2022</td>\n",
              "      <td>5.0 out of 5 stars</td>\n",
              "      <td>The media could not be loa...</td>\n",
              "    </tr>\n",
              "    <tr>\n",
              "      <th>4</th>\n",
              "      <td>Rakshit Ranjan Singh</td>\n",
              "      <td>Very easy to ise</td>\n",
              "      <td>10 August 2022</td>\n",
              "      <td>5.0 out of 5 stars</td>\n",
              "      <td>Everything is perfect</td>\n",
              "    </tr>\n",
              "    <tr>\n",
              "      <th>5</th>\n",
              "      <td>Gagan anand</td>\n",
              "      <td>Best phone in the market</td>\n",
              "      <td>29 July 2022</td>\n",
              "      <td>5.0 out of 5 stars</td>\n",
              "      <td>This is my first ever Iphone.  I'm android use...</td>\n",
              "    </tr>\n",
              "    <tr>\n",
              "      <th>6</th>\n",
              "      <td>Sandip Adhav</td>\n",
              "      <td>Perfect device, amazing speed.</td>\n",
              "      <td>14 August 2022</td>\n",
              "      <td>5.0 out of 5 stars</td>\n",
              "      <td></td>\n",
              "    </tr>\n",
              "    <tr>\n",
              "      <th>7</th>\n",
              "      <td>Sumit Khinchi</td>\n",
              "      <td>Awesome</td>\n",
              "      <td>10 August 2022</td>\n",
              "      <td>5.0 out of 5 stars</td>\n",
              "      <td>Awesome</td>\n",
              "    </tr>\n",
              "    <tr>\n",
              "      <th>8</th>\n",
              "      <td>Arindam Dey</td>\n",
              "      <td>Classy phone</td>\n",
              "      <td>8 August 2022</td>\n",
              "      <td>5.0 out of 5 stars</td>\n",
              "      <td>The media could not be loa...</td>\n",
              "    </tr>\n",
              "    <tr>\n",
              "      <th>9</th>\n",
              "      <td>HPCL A/C Gourav Singh Rathore</td>\n",
              "      <td>Impressed with battery life</td>\n",
              "      <td>11 August 2022</td>\n",
              "      <td>5.0 out of 5 stars</td>\n",
              "      <td>IPhone is like beautiful girlfriend with lot o...</td>\n",
              "    </tr>\n",
              "  </tbody>\n",
              "</table>\n",
              "</div>\n",
              "      <button class=\"colab-df-convert\" onclick=\"convertToInteractive('df-6a093878-e79a-4dcf-8ffb-90e661172df3')\"\n",
              "              title=\"Convert this dataframe to an interactive table.\"\n",
              "              style=\"display:none;\">\n",
              "        \n",
              "  <svg xmlns=\"http://www.w3.org/2000/svg\" height=\"24px\"viewBox=\"0 0 24 24\"\n",
              "       width=\"24px\">\n",
              "    <path d=\"M0 0h24v24H0V0z\" fill=\"none\"/>\n",
              "    <path d=\"M18.56 5.44l.94 2.06.94-2.06 2.06-.94-2.06-.94-.94-2.06-.94 2.06-2.06.94zm-11 1L8.5 8.5l.94-2.06 2.06-.94-2.06-.94L8.5 2.5l-.94 2.06-2.06.94zm10 10l.94 2.06.94-2.06 2.06-.94-2.06-.94-.94-2.06-.94 2.06-2.06.94z\"/><path d=\"M17.41 7.96l-1.37-1.37c-.4-.4-.92-.59-1.43-.59-.52 0-1.04.2-1.43.59L10.3 9.45l-7.72 7.72c-.78.78-.78 2.05 0 2.83L4 21.41c.39.39.9.59 1.41.59.51 0 1.02-.2 1.41-.59l7.78-7.78 2.81-2.81c.8-.78.8-2.07 0-2.86zM5.41 20L4 18.59l7.72-7.72 1.47 1.35L5.41 20z\"/>\n",
              "  </svg>\n",
              "      </button>\n",
              "      \n",
              "  <style>\n",
              "    .colab-df-container {\n",
              "      display:flex;\n",
              "      flex-wrap:wrap;\n",
              "      gap: 12px;\n",
              "    }\n",
              "\n",
              "    .colab-df-convert {\n",
              "      background-color: #E8F0FE;\n",
              "      border: none;\n",
              "      border-radius: 50%;\n",
              "      cursor: pointer;\n",
              "      display: none;\n",
              "      fill: #1967D2;\n",
              "      height: 32px;\n",
              "      padding: 0 0 0 0;\n",
              "      width: 32px;\n",
              "    }\n",
              "\n",
              "    .colab-df-convert:hover {\n",
              "      background-color: #E2EBFA;\n",
              "      box-shadow: 0px 1px 2px rgba(60, 64, 67, 0.3), 0px 1px 3px 1px rgba(60, 64, 67, 0.15);\n",
              "      fill: #174EA6;\n",
              "    }\n",
              "\n",
              "    [theme=dark] .colab-df-convert {\n",
              "      background-color: #3B4455;\n",
              "      fill: #D2E3FC;\n",
              "    }\n",
              "\n",
              "    [theme=dark] .colab-df-convert:hover {\n",
              "      background-color: #434B5C;\n",
              "      box-shadow: 0px 1px 3px 1px rgba(0, 0, 0, 0.15);\n",
              "      filter: drop-shadow(0px 1px 2px rgba(0, 0, 0, 0.3));\n",
              "      fill: #FFFFFF;\n",
              "    }\n",
              "  </style>\n",
              "\n",
              "      <script>\n",
              "        const buttonEl =\n",
              "          document.querySelector('#df-6a093878-e79a-4dcf-8ffb-90e661172df3 button.colab-df-convert');\n",
              "        buttonEl.style.display =\n",
              "          google.colab.kernel.accessAllowed ? 'block' : 'none';\n",
              "\n",
              "        async function convertToInteractive(key) {\n",
              "          const element = document.querySelector('#df-6a093878-e79a-4dcf-8ffb-90e661172df3');\n",
              "          const dataTable =\n",
              "            await google.colab.kernel.invokeFunction('convertToInteractive',\n",
              "                                                     [key], {});\n",
              "          if (!dataTable) return;\n",
              "\n",
              "          const docLinkHtml = 'Like what you see? Visit the ' +\n",
              "            '<a target=\"_blank\" href=https://colab.research.google.com/notebooks/data_table.ipynb>data table notebook</a>'\n",
              "            + ' to learn more about interactive tables.';\n",
              "          element.innerHTML = '';\n",
              "          dataTable['output_type'] = 'display_data';\n",
              "          await google.colab.output.renderOutput(dataTable, element);\n",
              "          const docLink = document.createElement('div');\n",
              "          docLink.innerHTML = docLinkHtml;\n",
              "          element.appendChild(docLink);\n",
              "        }\n",
              "      </script>\n",
              "    </div>\n",
              "  </div>\n",
              "  "
            ]
          },
          "metadata": {},
          "execution_count": 62
        }
      ]
    }
  ]
}