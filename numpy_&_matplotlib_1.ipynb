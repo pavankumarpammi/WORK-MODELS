{
  "nbformat": 4,
  "nbformat_minor": 0,
  "metadata": {
    "colab": {
      "provenance": [],
      "authorship_tag": "ABX9TyPIAF1EJYPquLuwjnM20/BP",
      "include_colab_link": true
    },
    "kernelspec": {
      "name": "python3",
      "display_name": "Python 3"
    },
    "language_info": {
      "name": "python"
    }
  },
  "cells": [
    {
      "cell_type": "markdown",
      "metadata": {
        "id": "view-in-github",
        "colab_type": "text"
      },
      "source": [
        "<a href=\"https://colab.research.google.com/github/pavankumarpammi/WORK-MODELS/blob/main/numpy_%26_matplotlib_1.ipynb\" target=\"_parent\"><img src=\"https://colab.research.google.com/assets/colab-badge.svg\" alt=\"Open In Colab\"/></a>"
      ]
    },
    {
      "cell_type": "markdown",
      "source": [
        "import numpy as np\n",
        "a=np.array(1)\n",
        "a\n"
      ],
      "metadata": {
        "id": "ZT73_IQr4mi4"
      }
    },
    {
      "cell_type": "code",
      "source": [
        "type(a)\n"
      ],
      "metadata": {
        "id": "X45RJr4g432B",
        "outputId": "6e144f4b-526a-4325-8dd8-ff7ed29adef4",
        "colab": {
          "base_uri": "https://localhost:8080/"
        }
      },
      "execution_count": null,
      "outputs": [
        {
          "output_type": "execute_result",
          "data": {
            "text/plain": [
              "numpy.ndarray"
            ]
          },
          "metadata": {},
          "execution_count": 2
        }
      ]
    },
    {
      "cell_type": "code",
      "source": [
        "b=np.array(2)\n",
        "b\n"
      ],
      "metadata": {
        "colab": {
          "base_uri": "https://localhost:8080/"
        },
        "id": "moWP6IqW-Hjg",
        "outputId": "e7dd5dd1-f919-4cef-a0e2-cfc3acbd4ad8"
      },
      "execution_count": null,
      "outputs": [
        {
          "output_type": "execute_result",
          "data": {
            "text/plain": [
              "array(2)"
            ]
          },
          "metadata": {},
          "execution_count": 4
        }
      ]
    },
    {
      "cell_type": "code",
      "source": [
        "c=np.array([12,56,211,5856,563])\n",
        "\n",
        "type(c)\n",
        "print(c)\n"
      ],
      "metadata": {
        "colab": {
          "base_uri": "https://localhost:8080/"
        },
        "id": "XM2lv1N0-yyb",
        "outputId": "ddb648ad-d4e0-4694-d7b5-1ed6afafc177"
      },
      "execution_count": null,
      "outputs": [
        {
          "output_type": "stream",
          "name": "stdout",
          "text": [
            "[  12   56  211 5856  563]\n"
          ]
        }
      ]
    },
    {
      "cell_type": "code",
      "source": [
        "d=np.array([[1,2,3,4],[5,6,7,8,]])\n",
        "d"
      ],
      "metadata": {
        "colab": {
          "base_uri": "https://localhost:8080/"
        },
        "id": "k_rC38jOAGed",
        "outputId": "f4717b60-91f4-4081-8043-8fed73129df2"
      },
      "execution_count": null,
      "outputs": [
        {
          "output_type": "execute_result",
          "data": {
            "text/plain": [
              "array([[1, 2, 3, 4],\n",
              "       [5, 6, 7, 8]])"
            ]
          },
          "metadata": {},
          "execution_count": 10
        }
      ]
    },
    {
      "cell_type": "code",
      "source": [
        "d.ndim"
      ],
      "metadata": {
        "colab": {
          "base_uri": "https://localhost:8080/"
        },
        "id": "m4jHZeiDAq1y",
        "outputId": "256b9cef-69cb-4569-b102-c7e5a25db549"
      },
      "execution_count": null,
      "outputs": [
        {
          "output_type": "execute_result",
          "data": {
            "text/plain": [
              "2"
            ]
          },
          "metadata": {},
          "execution_count": 11
        }
      ]
    },
    {
      "cell_type": "code",
      "source": [
        "d.shape"
      ],
      "metadata": {
        "colab": {
          "base_uri": "https://localhost:8080/"
        },
        "id": "NeSEee7uAzr1",
        "outputId": "dee022d6-8d0b-42b8-98e5-0f622966abdd"
      },
      "execution_count": null,
      "outputs": [
        {
          "output_type": "execute_result",
          "data": {
            "text/plain": [
              "(2, 4)"
            ]
          },
          "metadata": {},
          "execution_count": 12
        }
      ]
    },
    {
      "cell_type": "code",
      "source": [
        "d.size"
      ],
      "metadata": {
        "colab": {
          "base_uri": "https://localhost:8080/"
        },
        "id": "1Eu8Cw3HA72p",
        "outputId": "282ac400-6825-4dfb-d716-eddabe287e76"
      },
      "execution_count": null,
      "outputs": [
        {
          "output_type": "execute_result",
          "data": {
            "text/plain": [
              "8"
            ]
          },
          "metadata": {},
          "execution_count": 13
        }
      ]
    },
    {
      "cell_type": "markdown",
      "source": [
        "d=np.array([[1,5,6,8],[3,84,55,9],[55,24,65,4]])\n",
        "\n",
        "*   List item\n",
        "\n",
        "*   List item\n",
        "\n",
        "*   List item\n",
        "*   List item\n",
        "\n",
        "\n",
        "*   List item\n",
        "\n",
        "\n",
        "*   List item\n",
        "\n",
        "\n",
        "d"
      ],
      "metadata": {
        "id": "Qz5w9i8vBCj3"
      }
    },
    {
      "cell_type": "code",
      "source": [
        "d=np.array([[1,5,6,8],[3,84,55,9],[55,24,65,4]])\n",
        "d"
      ],
      "metadata": {
        "colab": {
          "base_uri": "https://localhost:8080/"
        },
        "id": "otwy-f4jBlvZ",
        "outputId": "89b1d795-3846-4839-f3f0-0f8edfeb5fed"
      },
      "execution_count": null,
      "outputs": [
        {
          "output_type": "execute_result",
          "data": {
            "text/plain": [
              "array([[ 1,  5,  6,  8],\n",
              "       [ 3, 84, 55,  9],\n",
              "       [55, 24, 65,  4]])"
            ]
          },
          "metadata": {},
          "execution_count": 16
        }
      ]
    },
    {
      "cell_type": "code",
      "source": [
        "d.shape"
      ],
      "metadata": {
        "colab": {
          "base_uri": "https://localhost:8080/"
        },
        "id": "-LUtffH3B5d0",
        "outputId": "a4fc4fcd-da79-4e1b-e73f-b7a60d544ae6"
      },
      "execution_count": null,
      "outputs": [
        {
          "output_type": "execute_result",
          "data": {
            "text/plain": [
              "(3, 4)"
            ]
          },
          "metadata": {},
          "execution_count": 17
        }
      ]
    },
    {
      "cell_type": "code",
      "source": [
        "d.size"
      ],
      "metadata": {
        "colab": {
          "base_uri": "https://localhost:8080/"
        },
        "id": "vlq8yo0ZCGxR",
        "outputId": "cbc61fa0-f320-4e69-d635-9cbad7f8524e"
      },
      "execution_count": null,
      "outputs": [
        {
          "output_type": "execute_result",
          "data": {
            "text/plain": [
              "12"
            ]
          },
          "metadata": {},
          "execution_count": 18
        }
      ]
    },
    {
      "cell_type": "code",
      "source": [
        "d.ndim\n"
      ],
      "metadata": {
        "colab": {
          "base_uri": "https://localhost:8080/"
        },
        "id": "e7zYtOiCCRiY",
        "outputId": "c0556e99-2eec-4acc-dfc5-891cd0514975"
      },
      "execution_count": null,
      "outputs": [
        {
          "output_type": "execute_result",
          "data": {
            "text/plain": [
              "2"
            ]
          },
          "metadata": {},
          "execution_count": 19
        }
      ]
    },
    {
      "cell_type": "code",
      "source": [
        "n=np.random.randint(0,10,10)\n",
        "n"
      ],
      "metadata": {
        "colab": {
          "base_uri": "https://localhost:8080/"
        },
        "id": "BaqMqjSeD7oU",
        "outputId": "1f2fe151-d7f3-46b9-d194-87914fa13d58"
      },
      "execution_count": null,
      "outputs": [
        {
          "output_type": "execute_result",
          "data": {
            "text/plain": [
              "array([1, 5, 1, 2, 8, 2, 3, 3, 7, 2])"
            ]
          },
          "metadata": {},
          "execution_count": 30
        }
      ]
    },
    {
      "cell_type": "code",
      "source": [
        "np.random.seed(2)\n",
        "n=np.random.randint(0,20,15)\n",
        "n\n"
      ],
      "metadata": {
        "colab": {
          "base_uri": "https://localhost:8080/"
        },
        "id": "kuwPN39tFbuk",
        "outputId": "5ed66802-3174-4072-8f35-c50273c0b4e9"
      },
      "execution_count": null,
      "outputs": [
        {
          "output_type": "execute_result",
          "data": {
            "text/plain": [
              "array([ 8, 15, 13,  8, 11, 18, 11,  8,  7,  2, 17, 11, 15,  5,  7])"
            ]
          },
          "metadata": {},
          "execution_count": 39
        }
      ]
    },
    {
      "cell_type": "markdown",
      "source": [
        "*m*=np.random.randint(0,1000,50)\n",
        "print(m)"
      ],
      "metadata": {
        "id": "uBP5b8bjIAn3"
      }
    },
    {
      "cell_type": "markdown",
      "source": [
        "m=np.random.randint(0,1000,50)\n",
        "print(m)"
      ],
      "metadata": {
        "id": "dUpKtSOBJHun"
      }
    },
    {
      "cell_type": "code",
      "source": [
        "m.ndim"
      ],
      "metadata": {
        "colab": {
          "base_uri": "https://localhost:8080/"
        },
        "id": "vV4zr398JMdm",
        "outputId": "4ded1852-91dd-4538-dfdf-6c4f1812de1d"
      },
      "execution_count": null,
      "outputs": [
        {
          "output_type": "execute_result",
          "data": {
            "text/plain": [
              "1"
            ]
          },
          "metadata": {},
          "execution_count": 43
        }
      ]
    },
    {
      "cell_type": "code",
      "source": [
        "m=np.random.randint(0,1000,50)\n",
        "n=np.random.randint(0,50,50)\n",
        "q=str(m)+str(n)\n",
        "print(q)"
      ],
      "metadata": {
        "colab": {
          "base_uri": "https://localhost:8080/"
        },
        "id": "D3hXuPN3JNaQ",
        "outputId": "bc59833b-e6ec-4ecd-fa3b-804024bb037f"
      },
      "execution_count": null,
      "outputs": [
        {
          "output_type": "stream",
          "name": "stdout",
          "text": [
            "[976 298 560 548 534  19  95 913  45 840 805   9 149 420 754 935 487 339\n",
            " 858  36 808 358  19 184 392 380 718 885  49  51 115 923 195  79 898 278\n",
            " 261 133 722 357 349 140 220 390 625  44 517 912 709 820][26 19 39 37 25 36 15 21 18 22 29 14  0  5 23 33 38  7 32 49 18 29 15 45\n",
            " 28 20 26 16  6 38 24  6 43 21 49 21 41 36 41 40 19  4 34 12 15 47 39 21\n",
            "  1 45]\n"
          ]
        }
      ]
    },
    {
      "cell_type": "code",
      "source": [
        "n.ndim"
      ],
      "metadata": {
        "colab": {
          "base_uri": "https://localhost:8080/"
        },
        "id": "z0a6jYMpJZbj",
        "outputId": "7ccd68c4-8a7e-492d-c5a6-2c8b19fd2cd6"
      },
      "execution_count": null,
      "outputs": [
        {
          "output_type": "execute_result",
          "data": {
            "text/plain": [
              "1"
            ]
          },
          "metadata": {},
          "execution_count": 48
        }
      ]
    },
    {
      "cell_type": "code",
      "source": [
        "m.reshape(10,5)\n",
        "m\n",
        "          "
      ],
      "metadata": {
        "colab": {
          "base_uri": "https://localhost:8080/"
        },
        "id": "XlfK1IS5KjBQ",
        "outputId": "462db2f6-5871-42b3-cf1a-5086248f017e"
      },
      "execution_count": null,
      "outputs": [
        {
          "output_type": "execute_result",
          "data": {
            "text/plain": [
              "array([976, 298, 560, 548, 534,  19,  95, 913,  45, 840, 805,   9, 149,\n",
              "       420, 754, 935, 487, 339, 858,  36, 808, 358,  19, 184, 392, 380,\n",
              "       718, 885,  49,  51, 115, 923, 195,  79, 898, 278, 261, 133, 722,\n",
              "       357, 349, 140, 220, 390, 625,  44, 517, 912, 709, 820])"
            ]
          },
          "metadata": {},
          "execution_count": 49
        }
      ]
    },
    {
      "cell_type": "code",
      "source": [
        "\n",
        "n=np.random.randint(0,10,10)\n",
        "n"
      ],
      "metadata": {
        "colab": {
          "base_uri": "https://localhost:8080/"
        },
        "id": "Ndrbyv4AK8BR",
        "outputId": "a3b0b49f-116c-4a24-f22f-c5ba74434fea"
      },
      "execution_count": null,
      "outputs": [
        {
          "output_type": "execute_result",
          "data": {
            "text/plain": [
              "array([8, 5, 3, 5, 8, 3, 6, 1, 6, 1])"
            ]
          },
          "metadata": {},
          "execution_count": 60
        }
      ]
    },
    {
      "cell_type": "code",
      "source": [
        "n.reshape(5,2)\n",
        "          \n",
        "n"
      ],
      "metadata": {
        "colab": {
          "base_uri": "https://localhost:8080/"
        },
        "id": "3n2s6sCzLM_q",
        "outputId": "adcf3071-7985-4d05-d179-78ff9009091b"
      },
      "execution_count": null,
      "outputs": [
        {
          "output_type": "execute_result",
          "data": {
            "text/plain": [
              "array([8, 5, 3, 5, 8, 3, 6, 1, 6, 1])"
            ]
          },
          "metadata": {},
          "execution_count": 61
        }
      ]
    },
    {
      "cell_type": "code",
      "source": [
        "p=np.random.randint(0,10,10)\n",
        "p"
      ],
      "metadata": {
        "colab": {
          "base_uri": "https://localhost:8080/"
        },
        "id": "5vGvlbZvMpfM",
        "outputId": "c0ec8281-5b21-4f2f-9542-30aa94eab9f5"
      },
      "execution_count": null,
      "outputs": [
        {
          "output_type": "execute_result",
          "data": {
            "text/plain": [
              "array([2, 1, 2, 6, 6, 1, 3, 3, 2, 3])"
            ]
          },
          "metadata": {},
          "execution_count": 62
        }
      ]
    },
    {
      "cell_type": "code",
      "source": [
        "p.reshape(5,2)"
      ],
      "metadata": {
        "colab": {
          "base_uri": "https://localhost:8080/"
        },
        "id": "Ye-JOC1jM3Le",
        "outputId": "4b6c6b57-4bac-48d0-8c34-162b02abc2d6"
      },
      "execution_count": null,
      "outputs": [
        {
          "output_type": "execute_result",
          "data": {
            "text/plain": [
              "array([[2, 1],\n",
              "       [2, 6],\n",
              "       [6, 1],\n",
              "       [3, 3],\n",
              "       [2, 3]])"
            ]
          },
          "metadata": {},
          "execution_count": 63
        }
      ]
    },
    {
      "cell_type": "code",
      "source": [
        "p.reshape(2,5)\n",
        "p"
      ],
      "metadata": {
        "colab": {
          "base_uri": "https://localhost:8080/"
        },
        "id": "MptRYaxfM_oR",
        "outputId": "09ebdbb0-dd98-4f41-b61a-c98f7daf6e9d"
      },
      "execution_count": null,
      "outputs": [
        {
          "output_type": "execute_result",
          "data": {
            "text/plain": [
              "array([2, 1, 2, 6, 6, 1, 3, 3, 2, 3])"
            ]
          },
          "metadata": {},
          "execution_count": 66
        }
      ]
    },
    {
      "cell_type": "code",
      "source": [
        "m=np.ones(25)\n",
        "m"
      ],
      "metadata": {
        "colab": {
          "base_uri": "https://localhost:8080/"
        },
        "id": "OptbqIcHR43Y",
        "outputId": "0a874246-4c5c-4950-81e8-72ccba6e1b14"
      },
      "execution_count": null,
      "outputs": [
        {
          "output_type": "execute_result",
          "data": {
            "text/plain": [
              "array([1., 1., 1., 1., 1., 1., 1., 1., 1., 1., 1., 1., 1., 1., 1., 1., 1.,\n",
              "       1., 1., 1., 1., 1., 1., 1., 1.])"
            ]
          },
          "metadata": {},
          "execution_count": 67
        }
      ]
    },
    {
      "cell_type": "code",
      "source": [
        "n=np.zeros(3)\n",
        "n\n",
        "#open cv (B,G,R)\n",
        "#WHITE(255,255,255)\n",
        "#BLACK(0,0,0)\n",
        "#RED(0,0,255)\n",
        "#GREEN(0,255,0)"
      ],
      "metadata": {
        "colab": {
          "base_uri": "https://localhost:8080/"
        },
        "id": "OCgy34sdSBlR",
        "outputId": "9ea3ba80-5e1f-4976-9d89-e65366db2908"
      },
      "execution_count": null,
      "outputs": [
        {
          "output_type": "execute_result",
          "data": {
            "text/plain": [
              "array([0., 0., 0.])"
            ]
          },
          "metadata": {},
          "execution_count": 69
        }
      ]
    },
    {
      "cell_type": "code",
      "source": [
        "import matplotlib.pyplot as plt\n",
        "import numpy as np\n",
        "i=np.array([[[18,18,18]]])\n",
        "plt.imshow(i)"
      ],
      "metadata": {
        "colab": {
          "base_uri": "https://localhost:8080/",
          "height": 282
        },
        "id": "RUuaS1mQWIzp",
        "outputId": "3d429844-0564-4a7a-f6fe-96eb4af591ad"
      },
      "execution_count": null,
      "outputs": [
        {
          "output_type": "execute_result",
          "data": {
            "text/plain": [
              "<matplotlib.image.AxesImage at 0x7f7beb2f0310>"
            ]
          },
          "metadata": {},
          "execution_count": 74
        },
        {
          "output_type": "display_data",
          "data": {
            "text/plain": [
              "<Figure size 432x288 with 1 Axes>"
            ],
            "image/png": "[encoded data removed]"
          },
          "metadata": {
            "needs_background": "light"
          }
        }
      ]
    },
    {
      "cell_type": "code",
      "source": [
        "plate=np.array([[255,0,0],[255,255,255],[50,255,50]])\n",
        "i=np.array([[0,1,2]])\n",
        "plate[i]\n",
        "plt.imshow(plate[i])\n",
        "\n"
      ],
      "metadata": {
        "colab": {
          "base_uri": "https://localhost:8080/",
          "height": 177
        },
        "id": "ydZFYf0zYOx1",
        "outputId": "9df8bcb0-444c-4a97-bafe-f3f9df2071bb"
      },
      "execution_count": null,
      "outputs": [
        {
          "output_type": "execute_result",
          "data": {
            "text/plain": [
              "<matplotlib.image.AxesImage at 0x7f7beac25f50>"
            ]
          },
          "metadata": {},
          "execution_count": 83
        },
        {
          "output_type": "display_data",
          "data": {
            "text/plain": [
              "<Figure size 432x288 with 1 Axes>"
            ],
            "image/png": "[encoded data removed]"
          },
          "metadata": {
            "needs_background": "light"
          }
        }
      ]
    },
    {
      "cell_type": "code",
      "source": [
        "import numpy as np\n",
        "import matplotlib.pyplot as plt\n",
        "\n",
        "plate=np.array([[255,0,100],[150,100,25],[200,200,0]])\n",
        "i=np.array([[0,1,2]])\n",
        "plate[i]\n",
        "plt.imshow(plate[i])"
      ],
      "metadata": {
        "colab": {
          "base_uri": "https://localhost:8080/",
          "height": 177
        },
        "id": "-Iq8RGyqyYFM",
        "outputId": "86a030d9-b31a-420a-d9e4-4cfd7e5410b2"
      },
      "execution_count": null,
      "outputs": [
        {
          "output_type": "execute_result",
          "data": {
            "text/plain": [
              "<matplotlib.image.AxesImage at 0x7fd86a4b8c90>"
            ]
          },
          "metadata": {},
          "execution_count": 4
        },
        {
          "output_type": "display_data",
          "data": {
            "text/plain": [
              "<Figure size 432x288 with 1 Axes>"
            ],
            "image/png": "[encoded data removed]"
          },
          "metadata": {
            "needs_background": "light"
          }
        }
      ]
    },
    {
      "cell_type": "code",
      "source": [],
      "metadata": {
        "id": "psQQbCbX0RTl"
      },
      "execution_count": null,
      "outputs": []
    },
    {
      "cell_type": "code",
      "source": [
        "plate=np.array([[250,200,10],[0,45,100],[0,200,200],[100,100,200]])\n",
        "i=np.array([[0,1,2,3]])\n",
        "plate[i]\n",
        "plt.imshow(plate[i])"
      ],
      "metadata": {
        "colab": {
          "base_uri": "https://localhost:8080/",
          "height": 153
        },
        "id": "wo_vvpmazuk2",
        "outputId": "e0f49a10-ff3b-46fd-d167-76755510ff91"
      },
      "execution_count": null,
      "outputs": [
        {
          "output_type": "execute_result",
          "data": {
            "text/plain": [
              "<matplotlib.image.AxesImage at 0x7fd869394450>"
            ]
          },
          "metadata": {},
          "execution_count": 5
        },
        {
          "output_type": "display_data",
          "data": {
            "text/plain": [
              "<Figure size 432x288 with 1 Axes>"
            ],
            "image/png": "[encoded data removed]"
          },
          "metadata": {
            "needs_background": "light"
          }
        }
      ]
    },
    {
      "cell_type": "code",
      "source": [
        "x=[6,8,1,9]\n",
        "y=[1,5,3,6]\n",
        "plt.plot(x,y)"
      ],
      "metadata": {
        "colab": {
          "base_uri": "https://localhost:8080/",
          "height": 282
        },
        "id": "QKZ9aYQA1XF3",
        "outputId": "509bd992-d90a-4a32-daa1-202a9f38b7ec"
      },
      "execution_count": null,
      "outputs": [
        {
          "output_type": "execute_result",
          "data": {
            "text/plain": [
              "[<matplotlib.lines.Line2D at 0x7fd86967ad50>]"
            ]
          },
          "metadata": {},
          "execution_count": 6
        },
        {
          "output_type": "display_data",
          "data": {
            "text/plain": [
              "<Figure size 432x288 with 1 Axes>"
            ],
            "image/png": "[encoded data removed]"
          },
          "metadata": {
            "needs_background": "light"
          }
        }
      ]
    },
    {
      "cell_type": "code",
      "source": [
        "import matplotlib.pyplot as plt\n",
        "x=[]\n",
        "y=[]\n",
        "n=int(input(\"enter the number of points :\"))\n",
        "print(\"enter the values of x and y:\")\n",
        "for i in range(n):\n",
        "  a=int(input(\"values of x{}:\".format(i)))\n",
        "  x.append(a)\n",
        "  b=int(input(\"values of y{}:\".format(i)))\n",
        "  y.append(b)\n",
        "plt.plot(x,y,color='r',marker='*')\n",
        "plt.title('REPRESENT GRAPH',fontsize=20,color='b')\n",
        "plt.xlabel('x-axis',fontsize=12,color='g')\n",
        "plt.ylabel('y-axis',fontsize=12,color='g')\n",
        "\n",
        "\n",
        "  \n"
      ],
      "metadata": {
        "colab": {
          "base_uri": "https://localhost:8080/",
          "height": 529
        },
        "id": "8JsGmusB6Lcd",
        "outputId": "58d9e724-9324-4526-deaf-83c920a044cd"
      },
      "execution_count": null,
      "outputs": [
        {
          "name": "stdout",
          "output_type": "stream",
          "text": [
            "enter the number of points :5\n",
            "enter the values of x and y:\n",
            "values of x0:5\n",
            "values of y0:6\n",
            "values of x1:8\n",
            "values of y1:6\n",
            "values of x2:9\n",
            "values of y2:4\n",
            "values of x3:6\n",
            "values of y3:7\n",
            "values of x4:15\n",
            "values of y4:2\n"
          ]
        },
        {
          "output_type": "execute_result",
          "data": {
            "text/plain": [
              "Text(0, 0.5, 'y-axis')"
            ]
          },
          "metadata": {},
          "execution_count": 14
        },
        {
          "output_type": "display_data",
          "data": {
            "text/plain": [
              "<Figure size 432x288 with 1 Axes>"
            ],
            "image/png": "[encoded data removed]"
          },
          "metadata": {
            "needs_background": "light"
          }
        }
      ]
    },
    {
      "cell_type": "code",
      "source": [
        "x=[1,2,3,4]\n",
        "y=[5,6,7,8]\n",
        "plt.plot(x,y)"
      ],
      "metadata": {
        "colab": {
          "base_uri": "https://localhost:8080/",
          "height": 282
        },
        "id": "6KIVfNSbztH-",
        "outputId": "1c96df09-b207-43bc-e404-ff9ae7148fa3"
      },
      "execution_count": null,
      "outputs": [
        {
          "output_type": "execute_result",
          "data": {
            "text/plain": [
              "[<matplotlib.lines.Line2D at 0x7fd868f28410>]"
            ]
          },
          "metadata": {},
          "execution_count": 15
        },
        {
          "output_type": "display_data",
          "data": {
            "text/plain": [
              "<Figure size 432x288 with 1 Axes>"
            ],
            "image/png": "[encoded data removed]"
          },
          "metadata": {
            "needs_background": "light"
          }
        }
      ]
    },
    {
      "cell_type": "code",
      "source": [
        "import numpy as np\n",
        "n=np.array([[1,2,3,5,6,5],[45,58,6,5,9,5]])\n",
        "n.size\n",
        "n.shape\n",
        "n.reshape(6,2)"
      ],
      "metadata": {
        "colab": {
          "base_uri": "https://localhost:8080/"
        },
        "id": "q5fBPYKpARSO",
        "outputId": "4315f044-0187-4008-f456-2b499ca6867f"
      },
      "execution_count": null,
      "outputs": [
        {
          "output_type": "execute_result",
          "data": {
            "text/plain": [
              "array([[ 1,  2],\n",
              "       [ 3,  5],\n",
              "       [ 6,  5],\n",
              "       [45, 58],\n",
              "       [ 6,  5],\n",
              "       [ 9,  5]])"
            ]
          },
          "metadata": {},
          "execution_count": 19
        }
      ]
    },
    {
      "cell_type": "code",
      "source": [
        "import matplotlib.pyplot as plt\n",
        "i=np.array([[[ 50,0,100]]])\n",
        "plt.imshow(i)"
      ],
      "metadata": {
        "colab": {
          "base_uri": "https://localhost:8080/",
          "height": 282
        },
        "id": "j0TywbMhBJjJ",
        "outputId": "531b1f7d-ff5a-4d8d-df11-66e8081fa7c3"
      },
      "execution_count": null,
      "outputs": [
        {
          "output_type": "execute_result",
          "data": {
            "text/plain": [
              "<matplotlib.image.AxesImage at 0x7fd869064d50>"
            ]
          },
          "metadata": {},
          "execution_count": 28
        },
        {
          "output_type": "display_data",
          "data": {
            "text/plain": [
              "<Figure size 432x288 with 1 Axes>"
            ],
            "image/png": "[encoded data removed]"
          },
          "metadata": {
            "needs_background": "light"
          }
        }
      ]
    }
  ]
}